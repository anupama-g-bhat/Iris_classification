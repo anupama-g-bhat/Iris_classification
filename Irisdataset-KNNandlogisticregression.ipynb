{
 "cells": [
  {
   "cell_type": "code",
   "execution_count": 1,
   "metadata": {},
   "outputs": [
    {
     "name": "stdout",
     "output_type": "stream",
     "text": [
      "   SepalLengthCm  SepalWidthCm  PetalLengthCm  PetalWidthCm      Species\n",
      "1            5.1           3.5            1.4           0.2  Iris-setosa\n",
      "2            4.9           NaN            1.4           0.2          NaN\n",
      "3            4.7           3.2            1.3           0.2  Iris-setosa\n",
      "4            NaN           3.1            1.5           0.2  Iris-setosa\n",
      "5            5.0           3.6            NaN           0.2  Iris-setosa\n",
      "SepalLengthCm    1\n",
      "SepalWidthCm     1\n",
      "PetalLengthCm    2\n",
      "PetalWidthCm     0\n",
      "Species          1\n",
      "dtype: int64\n",
      "       SepalLengthCm  SepalWidthCm  PetalLengthCm  PetalWidthCm\n",
      "count     149.000000    149.000000     148.000000    150.000000\n",
      "mean        5.851678      3.054362       3.788514      1.198667\n",
      "std         0.824507      0.435034       1.757260      0.763161\n",
      "min         4.300000      2.000000       1.000000      0.100000\n",
      "25%         5.100000      2.800000       1.600000      0.300000\n",
      "50%         5.800000      3.000000       4.400000      1.300000\n",
      "75%         6.400000      3.300000       5.100000      1.800000\n",
      "max         7.900000      4.400000       6.900000      2.500000\n"
     ]
    }
   ],
   "source": [
    "import numpy as np\n",
    "import pandas as pd\n",
    "import matplotlib.pyplot as plt\n",
    "import seaborn as sns\n",
    "from sklearn.preprocessing import StandardScaler\n",
    "from sklearn.model_selection import train_test_split\n",
    "from sklearn.neighbors import KNeighborsClassifier\n",
    "from sklearn.metrics import classification_report, confusion_matrix,accuracy_score\n",
    "from sklearn.linear_model import LogisticRegression\n",
    "from sklearn.metrics import confusion_matrix,accuracy_score\n",
    "\n",
    "\n",
    "#Loading the data set\n",
    "df = pd.read_csv(\"Iris_data_sample.csv\", index_col=0, na_values=[\"??\",\"###\"])\n",
    "\n",
    "#Initial view of the dataset\n",
    "print(df.head())\n",
    "\n",
    "#Checking for missing values\n",
    "print(df.isnull().sum())\n",
    "\n",
    "#Summary of statistics\n",
    "print(df.describe())\n"
   ]
  },
  {
   "cell_type": "code",
   "execution_count": 2,
   "metadata": {},
   "outputs": [
    {
     "name": "stdout",
     "output_type": "stream",
     "text": [
      "Species\n",
      "Iris-versicolor    50\n",
      "Iris-virginica     50\n",
      "Iris-setosa        49\n",
      "Name: count, dtype: int64\n",
      "SepalLengthCm    0\n",
      "SepalWidthCm     0\n",
      "PetalLengthCm    0\n",
      "PetalWidthCm     0\n",
      "Species          0\n",
      "dtype: int64\n"
     ]
    }
   ],
   "source": [
    "#Copying  the data set and handling missing values \n",
    "data = df.copy()\n",
    "print(data[\"Species\"].value_counts())\n",
    "data = data.apply(lambda col: col.fillna(col.mean()) if col.dtype == \"float64\" else col.fillna(col.mode()[0]))\n",
    "#Again chaecking the missing values after handling\n",
    "print(data.isnull().sum())\n"
   ]
  },
  {
   "cell_type": "code",
   "execution_count": 6,
   "metadata": {},
   "outputs": [
    {
     "name": "stdout",
     "output_type": "stream",
     "text": [
      "['Iris-versicolor' 'Iris-setosa' 'Iris-virginica' 'Iris-versicolor'\n",
      " 'Iris-versicolor' 'Iris-setosa' 'Iris-versicolor' 'Iris-virginica'\n",
      " 'Iris-versicolor' 'Iris-versicolor' 'Iris-virginica' 'Iris-setosa'\n",
      " 'Iris-setosa' 'Iris-setosa' 'Iris-setosa' 'Iris-versicolor'\n",
      " 'Iris-virginica' 'Iris-versicolor' 'Iris-versicolor' 'Iris-virginica'\n",
      " 'Iris-setosa' 'Iris-virginica' 'Iris-setosa' 'Iris-virginica'\n",
      " 'Iris-virginica' 'Iris-virginica' 'Iris-virginica' 'Iris-virginica'\n",
      " 'Iris-setosa' 'Iris-setosa']\n",
      "[[10  0  0]\n",
      " [ 0  9  0]\n",
      " [ 0  0 11]]\n",
      "1.0\n"
     ]
    }
   ],
   "source": [
    "# Splitting the feautures and the target\n",
    "X = data.drop(\"Species\",axis = 1)\n",
    "y = data[\"Species\"]\n",
    "\n",
    "# Splitting the data set into training and testing model\n",
    "X_train, X_test, y_train, y_test = train_test_split(X,y,test_size = 0.2, random_state=42)\n",
    "\n",
    "# Standardizing the data set\n",
    "scaler = StandardScaler()\n",
    "X_train = scaler.fit_transform(X_train)\n",
    "X_test = scaler.transform(X_test)\n",
    "\n",
    "# Training the model using logistic regression\n",
    "model = LogisticRegression()\n",
    "model.fit(X_train, y_train)\n",
    "log_y_pred =model.predict(X_test)\n",
    "print(log_y_pred)\n",
    "\n",
    "# Confusion matrix and Classification report \n",
    "log_cm = confusion_matrix(y_test,log_y_pred)\n",
    "log_accuracy =accuracy_score(y_test,log_y_pred)\n",
    "print(log_cm)\n",
    "print(log_accuracy)\n"
   ]
  },
  {
   "cell_type": "code",
   "execution_count": null,
   "metadata": {},
   "outputs": [
    {
     "name": "stdout",
     "output_type": "stream",
     "text": [
      "                 precision    recall  f1-score   support\n",
      "\n",
      "    Iris-setosa       1.00      1.00      1.00        10\n",
      "Iris-versicolor       1.00      1.00      1.00         9\n",
      " Iris-virginica       1.00      1.00      1.00        11\n",
      "\n",
      "       accuracy                           1.00        30\n",
      "      macro avg       1.00      1.00      1.00        30\n",
      "   weighted avg       1.00      1.00      1.00        30\n",
      "\n"
     ]
    }
   ],
   "source": [
    "# Training the KNN model\n",
    "classifier = KNeighborsClassifier(n_neighbors= 5)\n",
    "classifier.fit(X_train, y_train)\n",
    "knn_y_pred = classifier.predict(X_test)\n",
    "\n",
    "# Confusion matrix and Classification report for KNN model\n",
    "print(classification_report(y_test,knn_y_pred))\n",
    "knn_cm = confusion_matrix(y_test,knn_y_pred)\n",
    "knn_accuracy = accuracy_score(y_test, knn_y_pred)"
   ]
  },
  {
   "cell_type": "code",
   "execution_count": 5,
   "metadata": {},
   "outputs": [
    {
     "name": "stdout",
     "output_type": "stream",
     "text": [
      "\n",
      "**Model Comparison:**\n",
      "Logistic Regression Accuracy: 1.0000\n",
      "KNN Accuracy: 1.0000\n"
     ]
    },
    {
     "data": {
      "image/png": "[encoded data removed]",
      "text/plain": [
       "<Figure size 1200x500 with 4 Axes>"
      ]
     },
     "metadata": {},
     "output_type": "display_data"
    }
   ],
   "source": [
    "# Comaparision of both the models\n",
    "print(\"\\n**Model Comparison:**\")\n",
    "print(f\"Logistic Regression Accuracy: {log_accuracy:.4f}\")\n",
    "print(f\"KNN Accuracy: {knn_accuracy:.4f}\")\n",
    "\n",
    "# Visualization of Logistic and KNN models\n",
    "fig, axes = plt.subplots(1, 2, figsize=(12, 5))\n",
    "\n",
    "sns.heatmap(log_cm, annot=True, fmt='d', cmap=\"Blues\", ax=axes[0])\n",
    "axes[0].set_title(\"Logistic Regression - Confusion Matrix\")\n",
    "axes[0].set_xlabel(\"Predicted\")\n",
    "axes[0].set_ylabel(\"Actual\")\n",
    "\n",
    "\n",
    "sns.heatmap(knn_cm, annot=True, fmt='d', cmap=\"Blues\", ax=axes[1])\n",
    "axes[1].set_title(\"KNN - Confusion Matrix\")\n",
    "axes[1].set_xlabel(\"Predicted\")\n",
    "axes[1].set_ylabel(\"Actual\")\n",
    "\n",
    "plt.show()"
   ]
  }
 ],
 "metadata": {
  "kernelspec": {
   "display_name": "Python 3",
   "language": "python",
   "name": "python3"
  },
  "language_info": {
   "codemirror_mode": {
    "name": "ipython",
    "version": 3
   },
   "file_extension": ".py",
   "mimetype": "text/x-python",
   "name": "python",
   "nbconvert_exporter": "python",
   "pygments_lexer": "ipython3",
   "version": "3.13.2"
  }
 },
 "nbformat": 4,
 "nbformat_minor": 2
}
